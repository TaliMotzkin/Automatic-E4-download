{
 "cells": [
  {
   "cell_type": "code",
   "execution_count": 68,
   "id": "6fe1ad68",
   "metadata": {},
   "outputs": [],
   "source": [
    "#import libraries\n",
    "from selenium import webdriver\n",
    "import time\n",
    "import os"
   ]
  },
  {
   "cell_type": "code",
   "execution_count": 79,
   "id": "2ce08c2a",
   "metadata": {},
   "outputs": [
    {
     "name": "stderr",
     "output_type": "stream",
     "text": [
      "<ipython-input-79-71fe8579ef89>:5: DeprecationWarning: use options instead of chrome_options\n",
      "  driver = webdriver.Chrome(executable_path=chromedriver, chrome_options=chromeOptions)\n"
     ]
    }
   ],
   "source": [
    "chromeOptions = webdriver.ChromeOptions()\n",
    "prefs = {\"download.default_directory\" : \"\\\\file_path\"}\n",
    "chromeOptions.add_experimental_option(\"prefs\",prefs)\n",
    "chromedriver = \"driver_path\" #make sure the latest verdion is updated!\n",
    "driver = webdriver.Chrome(executable_path=chromedriver, chrome_options=chromeOptions)\n",
    "#import the webdriver and set the download folder"
   ]
  },
  {
   "cell_type": "code",
   "execution_count": 80,
   "id": "1c4e5c67",
   "metadata": {},
   "outputs": [],
   "source": [
    "driver.get(\"https://eda-explorer.media.mit.edu/\")\n",
    "#navigate to the URL"
   ]
  },
  {
   "cell_type": "code",
   "execution_count": 81,
   "id": "8d5d282b",
   "metadata": {},
   "outputs": [],
   "source": [
    "login = driver.find_element_by_xpath('//*[@id=\"navbar-collapse-1\"]/ul[2]/li[2]/a')\n",
    "login.click()\n",
    "time.sleep(4)\n",
    "username = driver.find_element_by_xpath('//*[@id=\"login_form\"]/div[1]/table/tbody/tr[1]/td[2]/input')\n",
    "username.send_keys('name')\n",
    "password = driver.find_element_by_xpath('//*[@id=\"login_form\"]/div[1]/table/tbody/tr[2]/td[2]/input')\n",
    "password.send_keys('password')\n",
    "submit = driver.find_element_by_xpath('//*[@id=\"login_form\"]/div[2]/button[2]')\n",
    "submit.click()\n",
    "#login the site"
   ]
  },
  {
   "cell_type": "code",
   "execution_count": 75,
   "id": "21d643f4",
   "metadata": {},
   "outputs": [],
   "source": [
    "upload_file = driver.find_element_by_xpath('//*[@id=\"container\"]/div[2]/div[2]/div[1]/div/div/div/a')\n",
    "upload_file.click() #click to upload the file\n",
    "time.sleep(2)\n",
    "\n",
    "E4 = driver.find_element_by_xpath('//*[@id=\"id_raw_type_1\"]')\n",
    "E4.click() #click on the E4 option\n",
    "time.sleep(2)\n",
    "\n",
    "path = \"path to all files\" #create path to the files\n",
    "\n",
    "do_those = set() #make a set of numbers with 'create_skip_numbers' function which will be used in the next loop.\n",
    "def create_skip_numbers(): #the purpose of the function is to find the numbers of subjects that apear in the files folder, the ones that do not apear - the loop will skip them\n",
    "    for item in os.listdir(path): #for item in the files list\n",
    "        index = item.find(\"_\") #find the index of the first _ (to find the whole number whether if he has 1 or 3 digits)\n",
    "        do_those.add(int(item[:index])) #add those numbers to the set\n",
    "create_skip_numbers() #call the function\n",
    "\n",
    "def apload_files(): #define function for for-looping the EDA,ACC and TEMP matched files:\n",
    "    for i in range(1,323): #for subject number \n",
    "        if i not in do_those: #if the subject number do not apear in the set - skip it to the next i-number\n",
    "            continue\n",
    "        list_of_files = os.listdir(path) #define the list of files\n",
    "        name = driver.find_element_by_xpath('//*[@id=\"id_e4_name\"]') \n",
    "        name.send_keys(str(i) + '_Noise') #add the name of the new noise file\n",
    "        for item in list_of_files: # for items in the list of files \n",
    "            if item.startswith(str(i)+\"_EDA\"): #if the file has the same i beggining with 'EDA' than apload it\n",
    "                EDA = driver.find_element_by_xpath('//*[@id=\"id_EDA_file\"]')\n",
    "                EDA.send_keys(path + item)\n",
    "            if item.startswith(str(i)+\"_ACC\"):#if the file has the same i beggining with 'ACC' than apload it\n",
    "                ACC = driver.find_element_by_xpath('//*[@id=\"id_accel_file\"]')\n",
    "                ACC.send_keys(path + item)\n",
    "            if item.startswith(str(i)+\"_TEMP\"): #if the file has the same i beggining with 'TEMP' than apload it\n",
    "                TEMP = driver.find_element_by_xpath('//*[@id=\"id_temp_file\"]')\n",
    "                TEMP.send_keys(path + item)\n",
    "        time.sleep(2)  #rest      \n",
    "        submit = driver.find_element_by_xpath('//*[@id=\"submit\"]') #submit the new file\n",
    "        submit.click()\n",
    "        time.sleep(12)\n",
    "        upload_file = driver.find_element_by_xpath('//*[@id=\"container\"]/div[2]/div[2]/div[1]/div/div/div/a')\n",
    "        upload_file.click() #apload the next one\n",
    "        time.sleep(2)\n",
    "        E4 = driver.find_element_by_xpath('//*[@id=\"id_raw_type_1\"]')\n",
    "        E4.click() #chose E4 for the next file\n",
    "\n",
    "apload_files() #call function"
   ]
  },
  {
   "cell_type": "code",
   "execution_count": 77,
   "id": "79c740c6",
   "metadata": {},
   "outputs": [],
   "source": [
    "##Make binary files \n",
    "noise = driver.find_element_by_xpath('//*[@id=\"navbar-collapse-1\"]/ul[1]/li[3]/a')\n",
    "noise.click() #click on the \"find noise\" buttom\n",
    "time.sleep(2)\n",
    "\n",
    "def make_noise_file(): #define function for creating noise files\n",
    "    noise_buttom= []\n",
    "    noise_buttom = driver.find_elements_by_name(\"file_selector\") #find css file by name defenition\n",
    "    for i in range(0,len(noise_buttom)): #for subject number \n",
    "        noise_buttom= []\n",
    "        noise_buttom = driver.find_elements_by_name(\"file_selector\")\n",
    "        noise_buttom[i].click() #click on the first\n",
    "        find_noise = driver.find_element_by_xpath('//*[@id=\"visualize\"]')\n",
    "        find_noise.click() #then make the noise file\n",
    "        time.sleep(10)\n",
    "        generate =driver.find_element_by_xpath(' //*[@id=\"gen_artifacts\"]')\n",
    "        generate.click() #generate the noise file\n",
    "        time.sleep(10)\n",
    "        noise = driver.find_element_by_xpath('//*[@id=\"navbar-collapse-1\"]/ul[1]/li[3]/a')\n",
    "        noise.click() #go back to the noise file list\n",
    "        time.sleep(2)\n",
    "\n",
    "make_noise_file() #call function"
   ]
  },
  {
   "cell_type": "code",
   "execution_count": 78,
   "id": "c674d9ff",
   "metadata": {},
   "outputs": [],
   "source": [
    "##Make Multiple files \n",
    "noise = driver.find_element_by_xpath('//*[@id=\"navbar-collapse-1\"]/ul[1]/li[3]/a')\n",
    "noise.click() #click on the \"find noise\" buttom\n",
    "time.sleep(2)\n",
    "\n",
    "def make_M_file(): #define function for creating noise files\n",
    "    noise_buttom= []\n",
    "    noise_buttom = driver.find_elements_by_name(\"file_selector\") #find css file by name defenition\n",
    "    for i in range(0,len(noise_buttom)): #for subject number \n",
    "        noise_buttom= []\n",
    "        noise_buttom = driver.find_elements_by_name(\"file_selector\")\n",
    "        noise_buttom[i].click() #click on the first\n",
    "        find_multi = driver.find_element_by_xpath('//*[@id=\"multiclass\"]')\n",
    "        find_multi.click()\n",
    "        time.sleep(2)\n",
    "        find_noise = driver.find_element_by_xpath('//*[@id=\"visualize\"]')\n",
    "        find_noise.click() #then make the noise file\n",
    "        time.sleep(10)\n",
    "        generate =driver.find_element_by_xpath(' //*[@id=\"gen_artifacts\"]')\n",
    "        generate.click() #generate the noise file\n",
    "        time.sleep(10)\n",
    "        noise = driver.find_element_by_xpath('//*[@id=\"navbar-collapse-1\"]/ul[1]/li[3]/a')\n",
    "        noise.click() #go back to the noise file list\n",
    "        time.sleep(2)\n",
    "\n",
    "make_M_file() #call function"
   ]
  },
  {
   "cell_type": "code",
   "execution_count": 82,
   "id": "832769ab",
   "metadata": {},
   "outputs": [],
   "source": [
    "dash = driver.find_element_by_xpath('//*[@id=\"navbar-collapse-1\"]/ul[1]/li[1]/a')\n",
    "dash.click() #back to the dashboard\n",
    "time.sleep(3)\n",
    "\n",
    "def download(): #define function\n",
    "    download= []\n",
    "    download = driver.find_elements_by_xpath(\"//a[contains(@href, 'artifact_features')]\") #because there where more dowload options (of the raw files), I used the part that was distincted in the href link\n",
    "    for i in range(3,len(download)): #for subject number \n",
    "        download= []\n",
    "        download = driver.find_elements_by_xpath(\"//a[contains(@href, 'artifact_features')]\")\n",
    "        download[i].click() #click on the i -download\n",
    "        time.sleep(3)\n",
    "\n",
    "download() #calling the function"
   ]
  },
  {
   "cell_type": "code",
   "execution_count": 74,
   "id": "01e82230",
   "metadata": {},
   "outputs": [],
   "source": [
    "def delete(): #define function for deleting the noise files\n",
    "    delete= [] #empty list which will contain all of the delete buttom's names\n",
    "    delete = driver.find_elements_by_xpath(\"//a[contains(@href, 'delete_raw_modal')]\")\n",
    "    list_of_0 = list(0 for i in range(0, len(delete))) #make a list of zeros as the number of the length of the delete list\n",
    "    for i in list_of_0: #for each of the zeros\n",
    "        delete= [] #define a new delete buttoms list (after every 'delete' the page is changing so we need every iteration create a new one)\n",
    "        delete = driver.find_elements_by_xpath(\"//a[contains(@href, 'delete_raw_modal')]\")\n",
    "        delete[i].click() #click on the first item in the new list--> which was the second at the last list and so on\n",
    "        time.sleep(3)\n",
    "        delete_all = driver.find_element_by_xpath(' //*[@id=\"deleteRawAndAssociated\"]') #delete all the associated files \n",
    "        delete_all.click()\n",
    "        time.sleep(3)\n",
    "\n",
    "delete() #call function"
   ]
  },
  {
   "cell_type": "code",
   "execution_count": null,
   "id": "73f09d0e",
   "metadata": {},
   "outputs": [],
   "source": []
  }
 ],
 "metadata": {
  "kernelspec": {
   "display_name": "Python 3",
   "language": "python",
   "name": "python3"
  },
  "language_info": {
   "codemirror_mode": {
    "name": "ipython",
    "version": 3
   },
   "file_extension": ".py",
   "mimetype": "text/x-python",
   "name": "python",
   "nbconvert_exporter": "python",
   "pygments_lexer": "ipython3",
   "version": "3.8.5"
  }
 },
 "nbformat": 4,
 "nbformat_minor": 5
}
