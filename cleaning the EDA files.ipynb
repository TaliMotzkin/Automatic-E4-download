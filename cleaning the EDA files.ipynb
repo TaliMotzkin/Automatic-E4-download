{
 "cells": [
  {
   "cell_type": "code",
   "execution_count": 1,
   "id": "db7c91b8",
   "metadata": {},
   "outputs": [],
   "source": [
    "import pandas as pd #importing libraries\n",
    "import os\n",
    "import numpy as np\n",
    "from datetime import datetime, timedelta"
   ]
  },
  {
   "cell_type": "code",
   "execution_count": 51,
   "id": "aa8f125a",
   "metadata": {},
   "outputs": [],
   "source": [
    "path_noise = (\"noise_path\") #defind path to read noise files\n",
    "path_EDA = (\"EDA_path\") #define path to read EDA files\n",
    "target = (\"stat_path\") #Statistics target\n",
    "clean_tar = (\"clean_path\") #define path to noise-clean EDA's"
   ]
  },
  {
   "cell_type": "code",
   "execution_count": 5,
   "id": "1e8198a2",
   "metadata": {},
   "outputs": [],
   "source": [
    "noise_percentage = pd.DataFrame({'EDA_num':[],'binary[%]':[],'multiple[%]':[]}) #create a file to calculate noise statistics"
   ]
  },
  {
   "cell_type": "code",
   "execution_count": 23,
   "id": "a5fa6e7a",
   "metadata": {},
   "outputs": [],
   "source": [
    "for item_E in os.listdir(path_EDA): #for every item in the EDA diractory:\n",
    "    index = item_E.find(\"_\") \n",
    "    sub_number = item_E[:index] #find its subject number by index of the first \"_\"\n",
    "    #then, search for the matching Binary noise file by the subject number\n",
    "    for item_N in os.listdir(path_noise):\n",
    "        if item_N.startswith(sub_number+\"_\") and item_N.endswith(\"Binary.csv\"):\n",
    "\n",
    "            noise= pd.read_csv(path_noise+\"\\\\\"+item_N) #read the right noise\n",
    "            EDA = pd.read_csv(path_EDA+\"\\\\\"+item_E) #read the right EDA file\n",
    "            \n",
    "            eda_len = len(EDA) - 2 #calculate EDA duration by rows (-2 because the real measurment starts at row 3)\n",
    "            \n",
    "            noisy_parts = noise[noise[\"BinaryLabels\"] ==-1][[\"StartTime\", \"EndTime\"]] #search for the noisy parts\n",
    "            noise_len= len(noisy_parts) * 20 #calculate duration of noise (*20 because every noise epoc is 5 sec, so it is 20 rows of 0.250 millisec)\n",
    "            \n",
    "            percent = float((noise_len/eda_len)*100) #calculate Binary percent\n",
    "            \n",
    "            new_row = {'EDA_num':sub_number,'binary[%]':percent}\n",
    "            noise_percentage = noise_percentage.append(new_row, ignore_index=True) #Add the new rows to the statistics dataframe"
   ]
  },
  {
   "cell_type": "code",
   "execution_count": 24,
   "id": "2fb2a797",
   "metadata": {},
   "outputs": [],
   "source": [
    "for item_E in os.listdir(path_EDA): #for every item in the EDA diractory:\n",
    "    index = item_E.find(\"_\") \n",
    "    sub_number = item_E[:index] #find its subject number by index of the first \"_\"\n",
    "         #then, search for the matching Multiclass noise file by the subject number\n",
    "    for item_N in os.listdir(path_noise):\n",
    "        if item_N.startswith(sub_number+\"_\") and item_N.endswith(\"Multiclass.csv\"):\n",
    "\n",
    "            noise= pd.read_csv(path_noise+\"\\\\\"+item_N) #read the right noise\n",
    "            EDA = pd.read_csv(path_EDA+\"\\\\\"+item_E) #read the right EDA file\n",
    "            \n",
    "            eda_len = len(EDA) - 2 #calculate EDA duration by rows (-2 because the real measurment starts at row 3)\n",
    "            \n",
    "            noisy_parts = noise[noise[\"MulticlassLabels\"] ==-1][[\"StartTime\", \"EndTime\"]] #search for the noisy parts (only sure)\n",
    "            noise_len= len(noisy_parts) * 20 #calculate duration of noise (*20 because every noise epoc is 5 sec, so it is 20 rows of 0.250 millisec)\n",
    "            \n",
    "            percent = float((noise_len/eda_len)*100) #calculate multiclass percent\n",
    "            \n",
    "            noise_percentage.loc[noise_percentage.EDA_num == sub_number, \"multiple[%]\"] = percent #update the multiclass column by the EDAnumber"
   ]
  },
  {
   "cell_type": "code",
   "execution_count": 26,
   "id": "be01dad4",
   "metadata": {},
   "outputs": [],
   "source": [
    "noise_percentage.to_csv(target) #save the statistics table"
   ]
  },
  {
   "cell_type": "code",
   "execution_count": 40,
   "id": "f8b370b3",
   "metadata": {},
   "outputs": [],
   "source": [
    "def cleaning_EDA_bin(path_EDA, path_noise, clean_tar): #define cleaning function\n",
    "    \n",
    "    tar = pd.read_csv(target) # Read the statistics file\n",
    "    for item_E in os.listdir(path_EDA): #for every item in the EDA diractory:\n",
    "        index = item_E.find(\"_\") \n",
    "        sub_number = item_E[:index] #find its subject number by index of the first \"_\"\n",
    "        try:\n",
    "            val = float(tar[tar[\"EDA_num\"] == int(sub_number)][\"binary[%]\"].iloc[0])\n",
    "        except: # For some reason it gave me exceptions for some of the dataframes of val.\n",
    "            continue\n",
    "        else:\n",
    "            if val > 25:# If the binary % is bigger then 25% continue to the next item\n",
    "                continue\n",
    "            for item_n in os.listdir(path_noise): #then, search for the matching noise file by the subject number\n",
    "                if item_n.startswith(sub_number+\"_\") and item_n.endswith(\"Binary.csv\"):\n",
    "                    noise= pd.read_csv(path_noise+\"\\\\\"+item_n) #read the right noise\n",
    "                    EDA = pd.read_csv(path_EDA+\"\\\\\"+item_E) #read the right EDA file\n",
    "\n",
    "                    noise[\"StartTime\"] =  pd.to_datetime(noise[\"StartTime\"], dayfirst=True) #convert the start time of the noise to datetime (because of the format it reading days and month in the oposite way so we need dayfirst=true)\n",
    "                    noise[\"EndTime\"] =  pd.to_datetime(noise[\"EndTime\"], dayfirst=True) #convert the end time of the noise to datetime\n",
    "                    EDA[\"GMT date\"] = pd.to_datetime(EDA[\"GMT date\"]) #convert the EDA (GMT) time to datetime\n",
    "                    total_row_length=len(EDA.index) #count the total number of rows\n",
    "\n",
    "                    noisy_parts = noise[noise[\"BinaryLabels\"] ==-1][[\"StartTime\", \"EndTime\"]] #search for the noisy parts\n",
    "                    artifacts_length = int(len(noisy_parts.index)) #count how much \"-1\" (\"bad signal\") the file has\n",
    "                    set_times = set() #make an empty set\n",
    "                    for row in EDA.loc[2:,\"GMT date\"]: #for every row in the EDA file:\n",
    "                        for index,i in noisy_parts.iterrows(): #check if the row in the EDA file is between the start and the end time of the noise\n",
    "                            if i[\"StartTime\"]<=row<=i[\"EndTime\"]:\n",
    "                                set_times.add(row) #if it does then add the 'bad' rows to the set\n",
    "\n",
    "                    bool_list = list() #make an emty list which will contain the true(good) and false(bad) rows of the EDA file\n",
    "                    for row in EDA.iterrows(): #for each row in the EDA file \n",
    "                        boolean = (row[1][3] not in set_times) #decise whether it is not in the 'bad' rows (1,3 because itterrows gives tuple of index and row with all of the columns)\n",
    "                        bool_list.append(boolean) #add the trues and false to the empty list\n",
    "                    clean_EDA = EDA.loc[np.array(bool_list)].drop([\"Unnamed: 0\",\"Unnamed: 0.1\"], axis=1) #make a clean EDA file by subsetting the trues and false\n",
    "\n",
    "\n",
    "                    target_path = os.path.join(clean_tar, item_E) #make a target path for the new clean EDA file\n",
    "                    clean_EDA.to_csv(target_path)            #write the file"
   ]
  },
  {
   "cell_type": "code",
   "execution_count": 41,
   "id": "9dcc1bea",
   "metadata": {},
   "outputs": [],
   "source": [
    "cleaning_EDA_bin(path_EDA, path_noise, clean_tar) #call function"
   ]
  },
  {
   "cell_type": "code",
   "execution_count": 43,
   "id": "69ab4e5f",
   "metadata": {},
   "outputs": [],
   "source": [
    "def cleaning_EDA_mul(path_EDA, path_noise, clean_tar): #define cleaning function\n",
    "    \n",
    "    tar = pd.read_csv(target) # Read the statistics file\n",
    "    for item_E in os.listdir(path_EDA): #for every item in the EDA diractory:\n",
    "        index = item_E.find(\"_\") \n",
    "        sub_number = item_E[:index] #find its subject number by index of the first \"_\"\n",
    "        try:\n",
    "            val = float(tar[tar[\"EDA_num\"] == int(sub_number)][\"multiple[%]\"].iloc[0])\n",
    "        except: # For some reason it gave me exceptions for some of the dataframes of val.\n",
    "            continue\n",
    "        else:\n",
    "            if val > 25:# If the binary % is bigger then 25% continue to the next item\n",
    "                continue\n",
    "            for item_n in os.listdir(path_noise): #then, search for the matching noise file by the subject number\n",
    "                if item_n.startswith(sub_number+\"_\") and item_n.endswith(\"Multiclass.csv\"):\n",
    "                    noise= pd.read_csv(path_noise+\"\\\\\"+item_n) #read the right noise\n",
    "                    EDA = pd.read_csv(path_EDA+\"\\\\\"+item_E) #read the right EDA file\n",
    "\n",
    "                    noise[\"StartTime\"] =  pd.to_datetime(noise[\"StartTime\"], dayfirst=True) #convert the start time of the noise to datetime (because of the format it reading days and month in the oposite way so we need dayfirst=true)\n",
    "                    noise[\"EndTime\"] =  pd.to_datetime(noise[\"EndTime\"], dayfirst=True) #convert the end time of the noise to datetime\n",
    "                    EDA[\"GMT date\"] = pd.to_datetime(EDA[\"GMT date\"]) #convert the EDA (GMT) time to datetime\n",
    "                    total_row_length=len(EDA.index) #count the total number of rows\n",
    "\n",
    "                    noisy_parts = noise[noise[\"MulticlassLabels\"] ==-1][[\"StartTime\", \"EndTime\"]] #search for the noisy parts\n",
    "                    artifacts_length = int(len(noisy_parts.index)) #count how much \"-1\" (\"bad signal\") the file has\n",
    "                    set_times = set() #make an empty set\n",
    "                    for row in EDA.loc[2:,\"GMT date\"]: #for every row in the EDA file:\n",
    "                        for index,i in noisy_parts.iterrows(): #check if the row in the EDA file is between the start and the end time of the noise\n",
    "                            if i[\"StartTime\"]<=row<=i[\"EndTime\"]:\n",
    "                                set_times.add(row) #if it does then add the 'bad' rows to the set\n",
    "\n",
    "                    bool_list = list() #make an emty list which will contain the true(good) and false(bad) rows of the EDA file\n",
    "                    for row in EDA.iterrows(): #for each row in the EDA file \n",
    "                        boolean = (row[1][3] not in set_times) #decise whether it is not in the 'bad' rows\n",
    "                        bool_list.append(boolean) #add the trues and false to the empty list\n",
    "                    clean_EDA = EDA.loc[np.array(bool_list)].drop([\"Unnamed: 0\",\"Unnamed: 0.1\"], axis=1) #make a clean EDA file by subsetting the trues and false\n",
    "\n",
    "\n",
    "                    target_path = os.path.join(clean_tar, item_E) #make a target path for the new clean EDA file\n",
    "                    clean_EDA.to_csv(target_path)            #write the file"
   ]
  },
  {
   "cell_type": "code",
   "execution_count": 52,
   "id": "ce010938",
   "metadata": {},
   "outputs": [],
   "source": [
    "cleaning_EDA_mul(path_EDA, path_noise, clean_tar) #call function"
   ]
  },
  {
   "cell_type": "code",
   "execution_count": null,
   "id": "d0536bc5",
   "metadata": {},
   "outputs": [],
   "source": []
  }
 ],
 "metadata": {
  "kernelspec": {
   "display_name": "Python 3",
   "language": "python",
   "name": "python3"
  },
  "language_info": {
   "codemirror_mode": {
    "name": "ipython",
    "version": 3
   },
   "file_extension": ".py",
   "mimetype": "text/x-python",
   "name": "python",
   "nbconvert_exporter": "python",
   "pygments_lexer": "ipython3",
   "version": "3.8.5"
  }
 },
 "nbformat": 4,
 "nbformat_minor": 5
}
