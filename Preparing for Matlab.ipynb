{
 "cells": [
  {
   "cell_type": "code",
   "execution_count": null,
   "id": "e8473c13",
   "metadata": {},
   "outputs": [],
   "source": [
    "#To prepare the Binary and Multyclass files for Matlab process from EDA to SCL using Ledalab, We need to convert the CSV files\n",
    "# To TXT files with only one column -- The EDA data column"
   ]
  },
  {
   "cell_type": "code",
   "execution_count": 1,
   "id": "ed7a46eb",
   "metadata": {},
   "outputs": [],
   "source": [
    "import pandas as pd #importing libraries\n",
    "import os\n",
    "import numpy as np"
   ]
  },
  {
   "cell_type": "code",
   "execution_count": 20,
   "id": "3db96c85",
   "metadata": {},
   "outputs": [],
   "source": [
    "path_EDA = (\"Clean EDA path\")\n",
    "path_new = (\"Path for new txt files\")\n",
    "for item in os.listdir(path_EDA):\n",
    "    EDA = pd.read_csv(path_EDA+\"\\\\\"+item) # read the EDA file\n",
    "    data = EDA.iloc[2:, 1] # Take only the relevant data\n",
    "    \n",
    "    index = item.find(\".\") \n",
    "    only_name = item[:index] #Take the name of the file\n",
    "    \n",
    "    save_path = os.path.join(path_new, only_name) #Where to save the file\n",
    "    \n",
    "    np.savetxt(save_path + '.txt', data) #Save the current file as txt"
   ]
  },
  {
   "cell_type": "code",
   "execution_count": null,
   "id": "8d5aa8ad",
   "metadata": {},
   "outputs": [],
   "source": []
  }
 ],
 "metadata": {
  "kernelspec": {
   "display_name": "Python 3",
   "language": "python",
   "name": "python3"
  },
  "language_info": {
   "codemirror_mode": {
    "name": "ipython",
    "version": 3
   },
   "file_extension": ".py",
   "mimetype": "text/x-python",
   "name": "python",
   "nbconvert_exporter": "python",
   "pygments_lexer": "ipython3",
   "version": "3.8.5"
  }
 },
 "nbformat": 4,
 "nbformat_minor": 5
}
