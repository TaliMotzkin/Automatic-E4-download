{
 "cells": [
  {
   "cell_type": "code",
   "execution_count": 3,
   "id": "c545fd1d",
   "metadata": {},
   "outputs": [],
   "source": [
    "import pandas as pd\n",
    "import numpy as np\n",
    "import os"
   ]
  },
  {
   "cell_type": "code",
   "execution_count": 4,
   "id": "c079e37e",
   "metadata": {},
   "outputs": [],
   "source": [
    "new_notes = pd.read_excel(\"path notes\\\\new_notes_6.xlsx\") #read the main file"
   ]
  },
  {
   "cell_type": "code",
   "execution_count": 6,
   "id": "804133c0",
   "metadata": {},
   "outputs": [],
   "source": [
    "comments = pd.read_excel(\"Path\\\\comments.xlsx\") #read the main file"
   ]
  },
  {
   "cell_type": "code",
   "execution_count": 7,
   "id": "54595099",
   "metadata": {},
   "outputs": [
    {
     "name": "stderr",
     "output_type": "stream",
     "text": [
      "<ipython-input-7-8f9e406809a0>:3: SettingWithCopyWarning: \n",
      "A value is trying to be set on a copy of a slice from a DataFrame\n",
      "\n",
      "See the caveats in the documentation: https://pandas.pydata.org/pandas-docs/stable/user_guide/indexing.html#returning-a-view-versus-a-copy\n",
      "  comments[\"Hight\"][row]/=100\n"
     ]
    }
   ],
   "source": [
    "for row in range(len(comments)): #Make all the hights to be in cm\n",
    "    if comments[\"Hight\"][row] > 50:\n",
    "        comments[\"Hight\"][row]/=100"
   ]
  },
  {
   "cell_type": "code",
   "execution_count": 8,
   "id": "176a6040",
   "metadata": {},
   "outputs": [],
   "source": [
    "df = comments[[\"Subject number\", \"Gender\", \"Age\", \"Weigh\", \"Hight\", \"Describe clothing\", \"Sensation\", \"Comfort\", \"Preference\"]]"
   ]
  },
  {
   "cell_type": "code",
   "execution_count": 9,
   "id": "bc05e558",
   "metadata": {},
   "outputs": [],
   "source": [
    "new_notes = new_notes.merge(df, on='Subject number', how='left')"
   ]
  },
  {
   "cell_type": "code",
   "execution_count": 12,
   "id": "99153921",
   "metadata": {},
   "outputs": [],
   "source": [
    "mapping1 = {\"+1 חמים\":1, \"0 נוח\":0, \"-1 קריר\":-1, \"+2 חם\":2, \"+3 חם מאוד\":3, \"-2 קר\":-2} #Changing to numbers\n",
    "mapping2 = {\"3 נוחה\":3, \"2 נייטרלית\":2, \"1 לא נוחה\":1, \"4 מאוד נוחה\":4, \"0 מאוד לא נוחה\":0  }\n",
    "mapping3 = {\"-3 קרה בהרבה\":-3, \"-2 קרה\":-2, \"-1 קרה במעט\":-1, \"0 ללא שינוי\":0, \"+1 חמה במעט\":1, \"+2 חמה\":2, \"+3 חמה בהרבה\":3}\n",
    "\n",
    "new_notes = new_notes.replace({\"Sensation\":mapping1,\"Comfort\":mapping2, \"Preference\":mapping3 })\n"
   ]
  },
  {
   "cell_type": "code",
   "execution_count": 14,
   "id": "53e35029",
   "metadata": {},
   "outputs": [],
   "source": [
    "new_notes.to_excel(\"PATH\\\\new_notes_7.xlsx\") #write the apdated main table"
   ]
  },
  {
   "cell_type": "code",
   "execution_count": null,
   "id": "5c279e01",
   "metadata": {},
   "outputs": [],
   "source": []
  }
 ],
 "metadata": {
  "kernelspec": {
   "display_name": "Python 3",
   "language": "python",
   "name": "python3"
  },
  "language_info": {
   "codemirror_mode": {
    "name": "ipython",
    "version": 3
   },
   "file_extension": ".py",
   "mimetype": "text/x-python",
   "name": "python",
   "nbconvert_exporter": "python",
   "pygments_lexer": "ipython3",
   "version": "3.8.5"
  }
 },
 "nbformat": 4,
 "nbformat_minor": 5
}
