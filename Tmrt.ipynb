{
 "cells": [
  {
   "cell_type": "code",
   "execution_count": 27,
   "id": "fa672fc0",
   "metadata": {},
   "outputs": [],
   "source": [
    "#import libraries\n",
    "from selenium import webdriver\n",
    "import time\n",
    "import os\n",
    "import pandas as pd\n",
    "import numpy as np"
   ]
  },
  {
   "cell_type": "code",
   "execution_count": 2,
   "id": "5d905e78",
   "metadata": {},
   "outputs": [
    {
     "name": "stderr",
     "output_type": "stream",
     "text": [
      "\n",
      "\n",
      "====== WebDriver manager ======\n",
      "Current google-chrome version is 110.0.5481\n",
      "Get LATEST chromedriver version for 110.0.5481 google-chrome\n",
      "There is no [win32] chromedriver for browser 110.0.5481 in cache\n",
      "Trying to download new driver from https://chromedriver.storage.googleapis.com/110.0.5481.77/chromedriver_win32.zip\n",
      "Driver has been saved in cache [C:\\Users\\Tali\\.wdm\\drivers\\chromedriver\\win32\\110.0.5481.77]\n"
     ]
    }
   ],
   "source": [
    "from webdriver_manager.chrome import ChromeDriverManager # SET driver\n",
    "driver = webdriver.Chrome(ChromeDriverManager().install())"
   ]
  },
  {
   "cell_type": "code",
   "execution_count": 3,
   "id": "0bd665b0",
   "metadata": {},
   "outputs": [],
   "source": [
    "driver.get(\"https://comfort.cbe.berkeley.edu/\") #Go to site"
   ]
  },
  {
   "cell_type": "code",
   "execution_count": 9,
   "id": "c7191191",
   "metadata": {},
   "outputs": [],
   "source": [
    "op1 = driver.find_element_by_xpath('//*[@id=\"chartSelect\"]/option[1]') # Go to the right section\n",
    "op1.click()\n",
    "box = driver.find_element_by_xpath('//*[@id=\"link\"]')\n",
    "box.click()\n",
    "globe = driver.find_element_by_xpath('//*[@id=\"globeTmpLabel\"]')\n",
    "globe.click()"
   ]
  },
  {
   "cell_type": "code",
   "execution_count": 24,
   "id": "14f58051",
   "metadata": {},
   "outputs": [],
   "source": [
    "new_notes = pd.read_excel(\"PATH\\\\new_notes_4.xlsx\") #read the main file"
   ]
  },
  {
   "cell_type": "code",
   "execution_count": 44,
   "id": "4386c973",
   "metadata": {},
   "outputs": [],
   "source": [
    "new_notes[\"Tmrt\"] = np.nan #make Tmrt col"
   ]
  },
  {
   "cell_type": "code",
   "execution_count": 51,
   "id": "ea7815d7",
   "metadata": {},
   "outputs": [],
   "source": [
    "def tmrt_cal(): #prepare a func that iterate through all the rows of the main file and calculates its tmrt using berkeley site\n",
    "    for index, row  in new_notes.iterrows():\n",
    "        temp = driver.find_element_by_xpath('//*[@id=\"ta-g\"]')\n",
    "        temp.clear()\n",
    "        temp.send_keys(str(row[\"Avg Temp\"]))\n",
    "        \n",
    "        wind = driver.find_element_by_xpath('//*[@id=\"vel-g\"]')\n",
    "        wind.clear()\n",
    "        wind.send_keys(str(row[\"Avg Wind\"]))\n",
    "        \n",
    "        globe = driver.find_element_by_xpath('//*[@id=\"tglobe\"]')\n",
    "        globe.clear()\n",
    "        globe.send_keys(str(row[\"Avg Globe\"]))\n",
    "        \n",
    "        time.sleep(1)\n",
    "\n",
    "        mrt = driver.find_element_by_xpath('//*[@id=\"mrt-result\"]')\n",
    "        mrt.click()\n",
    "        time.sleep(1)\n",
    "        my_val = mrt.get_attribute('value')\n",
    "        \n",
    "        new_notes.loc[index, \"Tmrt\"] = float(my_val)\n",
    "        time.sleep(2)"
   ]
  },
  {
   "cell_type": "code",
   "execution_count": 52,
   "id": "d08fd708",
   "metadata": {},
   "outputs": [],
   "source": [
    "tmrt_cal() #call function"
   ]
  },
  {
   "cell_type": "code",
   "execution_count": 54,
   "id": "c5a6c450",
   "metadata": {},
   "outputs": [],
   "source": [
    "new_notes.to_excel(\"Path\\\\new_notes_5.xlsx\")"
   ]
  },
  {
   "cell_type": "code",
   "execution_count": null,
   "id": "124dec67",
   "metadata": {},
   "outputs": [],
   "source": []
  }
 ],
 "metadata": {
  "kernelspec": {
   "display_name": "Python 3",
   "language": "python",
   "name": "python3"
  },
  "language_info": {
   "codemirror_mode": {
    "name": "ipython",
    "version": 3
   },
   "file_extension": ".py",
   "mimetype": "text/x-python",
   "name": "python",
   "nbconvert_exporter": "python",
   "pygments_lexer": "ipython3",
   "version": "3.8.5"
  }
 },
 "nbformat": 4,
 "nbformat_minor": 5
}
