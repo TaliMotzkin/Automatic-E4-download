{
 "cells": [
  {
   "cell_type": "code",
   "execution_count": 150,
   "id": "063bea8d",
   "metadata": {},
   "outputs": [],
   "source": [
    "import pandas as pd #importing libraries\n",
    "import os\n",
    "from datetime import datetime, timedelta"
   ]
  },
  {
   "cell_type": "code",
   "execution_count": 224,
   "id": "20c9c621",
   "metadata": {},
   "outputs": [],
   "source": [
    "def add_rolling_time(source_dir, target):\n",
    "    for EDA in os.listdir(source_dir): #for EDA files in the folder:\n",
    "        if \"EDA\" in EDA: #if its have an \"EDA\" phrase:\n",
    "            file_path = os.path.join(source_dir, EDA) #make a directory to this file\n",
    "            excel = pd.read_csv(file_path) #read it\n",
    "            GMT_date = pd.to_datetime((EDA.split(\"_\")[2]+\"250\"), unit='ms') #make a GMT date by the given unix code of the file\n",
    "            excel.loc[2,\"real date\"] = GMT_date + timedelta(hours=3) # add to the GMT date 3 hours (Israel time) and put it in new \"real date\" column - next to the first measurment\n",
    "            for i in range (3,len(excel)): #from the third line to the end of the excel file:\n",
    "                excel.loc[i,\"real date\"] = excel.loc[i-1,\"real date\"]+ timedelta(milliseconds=250) #to every following cell add 250 milliseconds (the EDA measure phase is 4Hz every second)\n",
    "            target_path = os.path.join(target, EDA) #define the target path\n",
    "            excel.to_csv(target_path)  #write the new file"
   ]
  },
  {
   "cell_type": "code",
   "execution_count": 225,
   "id": "a6cedc70",
   "metadata": {},
   "outputs": [],
   "source": [
    "def add_delta_time(new_source,target):\n",
    "    for EDA in os.listdir(new_source): #for EDA files in the folder:\n",
    "        file_path = os.path.join(new_source, EDA) #make a new path\n",
    "        time_excel = pd.read_csv(file_path) #read the file from the new path\n",
    "        delta_time = datetime.strptime(time_excel.loc[len(time_excel)-1,\"real date\"], \"%Y-%m-%d %H:%M:%S.%f\") -  datetime.strptime(time_excel.loc[3,\"real date\"], \"%Y-%m-%d %H:%M:%S.%f\") #calculate the duration time of the experiment\n",
    "        time_excel.loc[0,\"duration (minutes, seconds)\"]  = delta_time #add it to a new column\n",
    "        #divmod(delta_time.seconds, 60) ## if we want to convert it from \"Time delta\" type to \"Tuple\"\n",
    "        target_path = os.path.join(target, EDA) #define the target path\n",
    "        time_excel.to_csv(target_path)  #write the new file"
   ]
  },
  {
   "cell_type": "code",
   "execution_count": 226,
   "id": "8f63c021",
   "metadata": {},
   "outputs": [],
   "source": [
    "def update_new_notes(new_source):\n",
    "    for EDA in os.listdir(new_source): #for EDA files in the folder:\n",
    "        file_path = os.path.join(new_source, EDA) #make a new path\n",
    "        time_excel = pd.read_csv(file_path) #read the file from the new path\n",
    "        Key = int(EDA.split(\"_\")[0]) #Take its Primery Key \n",
    "        for index, row in enumerate(new_notes[\"Subject number\"]): #for each row in new_notes\n",
    "            if row == Key: #check if its subject number equals to the file primery key, if it does:\n",
    "                new_notes.loc[index, \"Real beginning time\"] = time_excel.loc[2,\"real date\"] #add to that row the real beginning tima and,\n",
    "                new_notes.loc[index, \"Real end time\"] = time_excel.loc[len(time_excel)-1,\"real date\"] #real ending time\n",
    "                new_notes.loc[index,\"duration\"] = time_excel.loc[0,\"duration (minutes, seconds)\"] # and duration of the experiment."
   ]
  },
  {
   "cell_type": "code",
   "execution_count": null,
   "id": "55fb6487",
   "metadata": {},
   "outputs": [],
   "source": [
    "new_notes =pd.read_excel( \"Path\\\\new_notes.xlsx\") #read the new notes file"
   ]
  },
  {
   "cell_type": "code",
   "execution_count": null,
   "id": "83dd4bbe",
   "metadata": {},
   "outputs": [],
   "source": [
    "source_dir = \"Source_dir\" #where the extracted files\n",
    "target = 'Target_dir'#where to write the new files"
   ]
  },
  {
   "cell_type": "code",
   "execution_count": 228,
   "id": "9533052d",
   "metadata": {},
   "outputs": [],
   "source": [
    "add_rolling_time(source_dir, target) #adding to the EDA files the rolling experiment time"
   ]
  },
  {
   "cell_type": "code",
   "execution_count": 229,
   "id": "316763d6",
   "metadata": {},
   "outputs": [],
   "source": [
    "new_source = \"Same as:'Target_dir'\" #the path of the EDA files with the rolling time\n",
    "add_delta_time(new_source,target) #adding to the EDA files the experiment duration"
   ]
  },
  {
   "cell_type": "code",
   "execution_count": 230,
   "id": "332e09cd",
   "metadata": {},
   "outputs": [],
   "source": [
    "update_new_notes(new_source) #apdate the main table"
   ]
  },
  {
   "cell_type": "code",
   "execution_count": 244,
   "id": "bfc225ee",
   "metadata": {},
   "outputs": [],
   "source": [
    "new_notes.to_excel( \"Path\\\\new_notes_1.xlsx\") #write the apdated main table (with duration, real beginning and ending of the experiment)"
   ]
  }
 ],
 "metadata": {
  "kernelspec": {
   "display_name": "Python 3",
   "language": "python",
   "name": "python3"
  },
  "language_info": {
   "codemirror_mode": {
    "name": "ipython",
    "version": 3
   },
   "file_extension": ".py",
   "mimetype": "text/x-python",
   "name": "python",
   "nbconvert_exporter": "python",
   "pygments_lexer": "ipython3",
   "version": "3.8.5"
  }
 },
 "nbformat": 4,
 "nbformat_minor": 5
}
