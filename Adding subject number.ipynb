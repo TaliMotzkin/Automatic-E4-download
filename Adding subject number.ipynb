{
 "cells": [
  {
   "cell_type": "code",
   "execution_count": 1,
   "id": "30accd0d",
   "metadata": {},
   "outputs": [],
   "source": [
    "import pandas as pd #import libraries\n",
    "import os"
   ]
  },
  {
   "cell_type": "code",
   "execution_count": 16,
   "id": "2fd968fe",
   "metadata": {},
   "outputs": [],
   "source": [
    "main_df_notes = pd.read_excel('Path') #import main notes file"
   ]
  },
  {
   "cell_type": "code",
   "execution_count": 17,
   "id": "91fcb6fd",
   "metadata": {},
   "outputs": [],
   "source": [
    "main_df_notes.Date = main_df_notes.Date.map(str) + \".2022\" #cleaning the date column \n",
    "main_df_notes['full date']= main_df_notes.Date + ' ' + main_df_notes['Beginning time'].map(str) #connecting the date to time"
   ]
  },
  {
   "cell_type": "code",
   "execution_count": 18,
   "id": "1961a548",
   "metadata": {},
   "outputs": [],
   "source": [
    "main_df_notes['bracelet number'] = main_df_notes['bracelet number'].str.strip() #Cleaning the spaces"
   ]
  },
  {
   "cell_type": "code",
   "execution_count": 19,
   "id": "dddd0353",
   "metadata": {},
   "outputs": [],
   "source": [
    "main_df_notes['full date'] = pd.to_datetime(main_df_notes['full date'], dayfirst=True) #transfer to datetime type\n",
    "main_df_notes['GMT_date'] = main_df_notes['full date'] -pd.Timedelta(hours = 3) # subtracting the three GMT hours(Jerusalem +3)\n",
    "main_df_notes['unix'] = ((main_df_notes['GMT_date']) - pd.Timestamp(\"1970-01-01\")) // pd.Timedelta('1s') #transfer to unix time"
   ]
  },
  {
   "cell_type": "code",
   "execution_count": 6,
   "id": "12631bf7",
   "metadata": {},
   "outputs": [],
   "source": [
    "source_dir = \"Source Path\" #where the unzipped files \n",
    "output_dir = \"Out Path\" #where to put the new renamed files"
   ]
  },
  {
   "cell_type": "code",
   "execution_count": 21,
   "id": "595560a7",
   "metadata": {},
   "outputs": [],
   "source": [
    "for item in os.listdir(source_dir): #for each of the unzipped files from the bracelets:\n",
    "    U_number = int(item.split(\"_\")[1]) #take its unix number\n",
    "    B_number = item.split(\"_\")[2].split(\".\")[0] #take its bracelet number\n",
    "    df =main_df_notes[((U_number) <= (500+ main_df_notes['unix'])) & ((U_number) >= (main_df_notes['unix'] -500)) \\\n",
    "    & ((B_number) == main_df_notes[\"bracelet number\"])] #create a new df from the main df, that equals to the bracelet number and in a range of unix time (my manual time in the main df wasnt accurate) \n",
    "    if not df.empty: #show only the new df that is not empty, i.e the real file have a documentation in the main df\n",
    "        new_name = (str(df[\"Subject number\"].iloc[0])+ \"_\" +item) #create its new name by the subject number(The Primary Key)\n",
    "        #print(df[\"Subject number\"]) #before renaming - I checked whether there were missing numbers which indicates undocumented files (because a spelling mistake\\technical bracelet mistake..)\n",
    "        os.rename(os.path.join(source_dir, item), os.path.join(output_dir,new_name)) #create a new name for the files with their primary key"
   ]
  }
 ],
 "metadata": {
  "kernelspec": {
   "display_name": "Python 3",
   "language": "python",
   "name": "python3"
  },
  "language_info": {
   "codemirror_mode": {
    "name": "ipython",
    "version": 3
   },
   "file_extension": ".py",
   "mimetype": "text/x-python",
   "name": "python",
   "nbconvert_exporter": "python",
   "pygments_lexer": "ipython3",
   "version": "3.8.5"
  }
 },
 "nbformat": 4,
 "nbformat_minor": 5
}
