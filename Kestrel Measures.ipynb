{
 "cells": [
  {
   "cell_type": "code",
   "execution_count": null,
   "id": "50100647",
   "metadata": {},
   "outputs": [],
   "source": [
    "import pandas as pd #importing libraries\n",
    "import os\n",
    "from datetime import datetime, timedelta\n",
    "import numpy as np"
   ]
  },
  {
   "cell_type": "code",
   "execution_count": null,
   "id": "7d6137c1",
   "metadata": {},
   "outputs": [],
   "source": [
    "new_notes = pd.read_excel(\"Path\\\\new_notes_3.xlsx\") # Read files\n",
    "olive = pd.read_csv(\"Path\\\\Olive_total.csv\", encoding= 'unicode_escape')\n",
    "orange = pd.read_csv(\"Path\\\\Orange_total.csv\", encoding= 'unicode_escape')"
   ]
  },
  {
   "cell_type": "code",
   "execution_count": null,
   "id": "76aa0955",
   "metadata": {},
   "outputs": [],
   "source": [
    "olive.columns = olive.iloc[8] #clean kestrel files\n",
    "olive = olive.drop([0,1,2,3,4,5,6,7,8,9])\n",
    "\n",
    "orange.columns = orange.iloc[8]\n",
    "orange = orange.drop([0,1,2,3,4,5,6,7,8,9])"
   ]
  },
  {
   "cell_type": "code",
   "execution_count": null,
   "id": "d93e3d4b",
   "metadata": {},
   "outputs": [],
   "source": [
    "orange[\"Time\"] = pd.to_datetime(orange[\"Time\"]) #make the time column to datetime\n",
    "olive[\"Time\"] = pd.to_datetime(olive[\"Time\"])"
   ]
  },
  {
   "cell_type": "code",
   "execution_count": null,
   "id": "d0f64006",
   "metadata": {},
   "outputs": [],
   "source": [
    "new_notes[\"Kestrel starts\"] = new_notes[\"Date\"] + ' ' +new_notes[\"Kestrel time\"] # make the time columns to datetime\n",
    "new_notes[\"Kestrel starts\"] = pd.to_datetime(new_notes[\"Kestrel starts\"], dayfirst=True)\n",
    "\n",
    "new_notes[\"Kestrel ends\"] = new_notes[\"Date\"] + ' ' +new_notes[\"End time\"]\n",
    "new_notes[\"Kestrel ends\"] = pd.to_datetime(new_notes[\"Kestrel ends\"], dayfirst=True)"
   ]
  },
  {
   "cell_type": "code",
   "execution_count": null,
   "id": "761cd61b",
   "metadata": {},
   "outputs": [],
   "source": [
    "new_notes[\"Avg Temp\"] = np.nan #make new columns\n",
    "new_notes[\"Avg Globe\"] = np.nan\n",
    "new_notes[\"Avg Humidity\"] = np.nan\n",
    "new_notes[\"Avg Wind\"] = np.nan"
   ]
  },
  {
   "cell_type": "code",
   "execution_count": null,
   "id": "64c45c72",
   "metadata": {
    "scrolled": true
   },
   "outputs": [],
   "source": [
    "def kestrel_cal(colour, df): #set function to calculate the averages of the meteorological conditions by the right time and date to each subject\n",
    "    for row in range(len(new_notes)):\n",
    "        if new_notes[\"Kestrel type\"][row] == colour:\n",
    "            new = df.loc[(new_notes[\"Kestrel starts\"][row] <= df[\"Time\"]) & (df[\"Time\"] <=new_notes[\"Kestrel ends\"][row])]\n",
    "            new_notes[\"Avg Temp\"][row] = pd.to_numeric(new[\"Temp\"], errors='coerce').mean(skipna=True)\n",
    "            new_notes[\"Avg Humidity\"][row] = pd.to_numeric(new[\"Rel. Hum.\"], errors='coerce').mean(skipna=True)\n",
    "            new_notes[\"Avg Globe\"][row] = pd.to_numeric(new[\"Globe Temp\"], errors='coerce').mean(skipna=True)\n",
    "            new_notes[\"Avg Wind\"][row] = pd.to_numeric(new[\"Wind Speed\"], errors='coerce').mean(skipna=True)"
   ]
  },
  {
   "cell_type": "code",
   "execution_count": null,
   "id": "fef34351",
   "metadata": {},
   "outputs": [],
   "source": [
    "kestrel_cal('ירוק', olive) # call function to the olive kestrel"
   ]
  },
  {
   "cell_type": "code",
   "execution_count": null,
   "id": "9b8ebe35",
   "metadata": {},
   "outputs": [],
   "source": [
    "kestrel_cal('כתום', orange) #call function to the orange kestrel"
   ]
  },
  {
   "cell_type": "code",
   "execution_count": null,
   "id": "3d886ffd",
   "metadata": {},
   "outputs": [],
   "source": [
    "new_notes.to_excel( \"Path\\\\new_notes_4.xlsx\") # Write new file"
   ]
  },
  {
   "cell_type": "code",
   "execution_count": null,
   "id": "da3c0ace",
   "metadata": {},
   "outputs": [],
   "source": []
  }
 ],
 "metadata": {
  "kernelspec": {
   "display_name": "Python 3",
   "language": "python",
   "name": "python3"
  },
  "language_info": {
   "codemirror_mode": {
    "name": "ipython",
    "version": 3
   },
   "file_extension": ".py",
   "mimetype": "text/x-python",
   "name": "python",
   "nbconvert_exporter": "python",
   "pygments_lexer": "ipython3",
   "version": "3.8.5"
  }
 },
 "nbformat": 4,
 "nbformat_minor": 5
}
