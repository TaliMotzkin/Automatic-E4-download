{
 "cells": [
  {
   "cell_type": "code",
   "execution_count": null,
   "id": "d66a283d",
   "metadata": {},
   "outputs": [],
   "source": [
    "import pandas as pd #importing libraries\n",
    "import os\n",
    "import numpy as np\n",
    "import math\n",
    "from scipy.stats import shapiro \n",
    "from scipy.stats import lognorm"
   ]
  },
  {
   "cell_type": "code",
   "execution_count": null,
   "id": "7fc838fe",
   "metadata": {},
   "outputs": [],
   "source": [
    "new_notes =pd.read_excel(\"Path\\\\new_notes_1.xlsx\") #REad the latest notes version"
   ]
  },
  {
   "cell_type": "code",
   "execution_count": null,
   "id": "0a5f54d1",
   "metadata": {},
   "outputs": [],
   "source": [
    "new_notes[\"bin_kurt\"] = np.nan # Making new columns\n",
    "new_notes[\"bin_skew\"] = np.nan\n",
    "new_notes[\"bin_mean\"] = np.nan\n",
    "new_notes[\"bin_med\"] = np.nan\n",
    "new_notes[\"bin_std\"] = np.nan\n",
    "\n",
    "new_notes[\"mul_kurt\"] = np.nan\n",
    "new_notes[\"mul_skew\"] = np.nan\n",
    "new_notes[\"mul_mean\"] = np.nan\n",
    "new_notes[\"mul_med\"] = np.nan\n",
    "new_notes[\"mul_std\"] = np.nan"
   ]
  },
  {
   "cell_type": "code",
   "execution_count": null,
   "id": "867814b9",
   "metadata": {},
   "outputs": [],
   "source": [
    "def calculations(source): # For binary SCL files\n",
    "    for SCL in os.listdir(source):\n",
    "        if \"SCL\" in SCL:\n",
    "            Key = int(SCL.split(\"_\")[0])\n",
    "            file_path = os.path.join(source, SCL)\n",
    "            excel = pd.read_excel(file_path)\n",
    "            \n",
    "            kurt = stats.kurtosis(excel.values.flatten(), bias=False)\n",
    "            ske = stats.skew(excel.values.flatten(), bias=False)\n",
    "            mean = excel.values.flatten().mean()\n",
    "            median = np.median(excel.values.flatten())\n",
    "            stde = excel.values.flatten().std()\n",
    "            \n",
    "            new_notes[\"bin_kurt\"][new_notes[\"Subject number\"] == Key] = kurt\n",
    "            new_notes[\"bin_skew\"][new_notes[\"Subject number\"] == Key] = ske\n",
    "            new_notes[\"bin_mean\"][new_notes[\"Subject number\"] == Key] = mean\n",
    "            new_notes[\"bin_med\"][new_notes[\"Subject number\"] == Key] = median\n",
    "            new_notes[\"bin_std\"][new_notes[\"Subject number\"] == Key] = stde"
   ]
  },
  {
   "cell_type": "code",
   "execution_count": null,
   "id": "fbc3979a",
   "metadata": {},
   "outputs": [],
   "source": [
    "def calculations_mul(source): # For multiclass SCL files\n",
    "    for SCL in os.listdir(source):\n",
    "        if \"SCL\" in SCL:\n",
    "            Key = int(SCL.split(\"_\")[0])\n",
    "            file_path = os.path.join(source, SCL)\n",
    "            excel = pd.read_excel(file_path)\n",
    "            \n",
    "            kurt = stats.kurtosis(excel.values.flatten(), bias=False)\n",
    "            ske = stats.skew(excel.values.flatten(), bias=False)\n",
    "            mean = excel.values.flatten().mean()\n",
    "            median = np.median(excel.values.flatten())\n",
    "            stde = excel.values.flatten().std()\n",
    "            \n",
    "            new_notes[\"mul_kurt\"][new_notes[\"Subject number\"] == Key] = kurt\n",
    "            new_notes[\"mul_skew\"][new_notes[\"Subject number\"] == Key] = ske\n",
    "            new_notes[\"mul_mean\"][new_notes[\"Subject number\"] == Key] = mean\n",
    "            new_notes[\"mul_med\"][new_notes[\"Subject number\"] == Key] = median\n",
    "            new_notes[\"mul_std\"][new_notes[\"Subject number\"] == Key] = stde"
   ]
  },
  {
   "cell_type": "code",
   "execution_count": null,
   "id": "7730a167",
   "metadata": {},
   "outputs": [],
   "source": [
    "source = \"Path of binary\\multiclass SCL files\""
   ]
  },
  {
   "cell_type": "code",
   "execution_count": null,
   "id": "9c374d17",
   "metadata": {},
   "outputs": [],
   "source": [
    "calculations(source) #calculation for binary SCL"
   ]
  },
  {
   "cell_type": "code",
   "execution_count": null,
   "id": "a25e4a17",
   "metadata": {},
   "outputs": [],
   "source": [
    "calculations_mul(source) #calculation for multiclass SCL"
   ]
  },
  {
   "cell_type": "code",
   "execution_count": null,
   "id": "5d1e4ba1",
   "metadata": {},
   "outputs": [],
   "source": [
    "new_notes=new_notes.drop([\"Unnamed: 0\",\"Unnamed: 0.1\"], axis=1) #clean columns\n",
    "new_notes.to_excel(\"Path\\\\new_notes_2.xlsx\") #write the apdated main table"
   ]
  },
  {
   "cell_type": "code",
   "execution_count": null,
   "id": "969ddcd1",
   "metadata": {},
   "outputs": [],
   "source": []
  }
 ],
 "metadata": {
  "kernelspec": {
   "display_name": "Python 3",
   "language": "python",
   "name": "python3"
  },
  "language_info": {
   "codemirror_mode": {
    "name": "ipython",
    "version": 3
   },
   "file_extension": ".py",
   "mimetype": "text/x-python",
   "name": "python",
   "nbconvert_exporter": "python",
   "pygments_lexer": "ipython3",
   "version": "3.8.5"
  }
 },
 "nbformat": 4,
 "nbformat_minor": 5
}
