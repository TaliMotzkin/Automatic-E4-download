{
 "cells": [
  {
   "cell_type": "code",
   "execution_count": 1,
   "id": "7b65b071",
   "metadata": {},
   "outputs": [],
   "source": [
    "import os, zipfile #import libraries"
   ]
  },
  {
   "cell_type": "code",
   "execution_count": 4,
   "id": "130b2d90",
   "metadata": {},
   "outputs": [],
   "source": [
    "source_dir = \"Source path\" #where we downloaded the zip files\n",
    "target_dir = \"Output path\" #where will be the unzipped files\n",
    "file_list= ['ACC.csv', 'EDA.csv', 'BVP.csv', 'TEMP.csv', 'IBI.csv', 'HR.csv'] #from zips ->taking only this files"
   ]
  },
  {
   "cell_type": "code",
   "execution_count": 5,
   "id": "fd70f7d3",
   "metadata": {},
   "outputs": [],
   "source": [
    "for item in os.listdir(source_dir): #for each of the zipped files from the bracelets:\n",
    "    if item.endswith(\".zip\"): #if the file end with \"zip\":\n",
    "        file_path = os.path.join(source_dir, item) #then, create its own path\n",
    "        with zipfile.ZipFile(file_path) as zf: #open this zip file\n",
    "            zipinfos = zf.infolist() #create a info list variable from the open zip file\n",
    "            for zipinfo in zipinfos: #for item inside that zip info list\n",
    "                if zipinfo.filename in file_list: #if that items name is inside the file list we created\n",
    "                    zipinfo.filename = os.path.splitext(zipinfo.filename)[0]+ \"_\" + os.path.splitext(item)[0] + \".csv\" #then change its name to filename+bracelet number and unix number\n",
    "                    zf.extract(zipinfo, target_dir) #extract that file to the target DIR"
   ]
  },
  {
   "cell_type": "code",
   "execution_count": null,
   "id": "54afcddf",
   "metadata": {},
   "outputs": [],
   "source": []
  }
 ],
 "metadata": {
  "kernelspec": {
   "display_name": "Python 3",
   "language": "python",
   "name": "python3"
  },
  "language_info": {
   "codemirror_mode": {
    "name": "ipython",
    "version": 3
   },
   "file_extension": ".py",
   "mimetype": "text/x-python",
   "name": "python",
   "nbconvert_exporter": "python",
   "pygments_lexer": "ipython3",
   "version": "3.8.5"
  }
 },
 "nbformat": 4,
 "nbformat_minor": 5
}
