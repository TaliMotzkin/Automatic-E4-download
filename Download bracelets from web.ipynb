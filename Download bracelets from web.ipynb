{
 "cells": [
  {
   "cell_type": "code",
   "execution_count": null,
   "id": "6b75a431",
   "metadata": {},
   "outputs": [],
   "source": [
    "#import libraries\n",
    "from selenium import webdriver\n",
    "import time"
   ]
  },
  {
   "cell_type": "code",
   "execution_count": null,
   "id": "a1b215d1",
   "metadata": {},
   "outputs": [],
   "source": [
    "#from webdriver_manager.chrome import ChromeDriverManager\n",
    "#driver = webdriver.Chrome(ChromeDriverManager().install())\n",
    "##import the webdriver without setting the download folder"
   ]
  },
  {
   "cell_type": "code",
   "execution_count": null,
   "id": "af0413fa",
   "metadata": {},
   "outputs": [],
   "source": [
    "chromeOptions = webdriver.ChromeOptions()\n",
    "prefs = {\"download.default_directory\" : \"Directory_Path\"}\n",
    "chromeOptions.add_experimental_option(\"prefs\",prefs)\n",
    "chromedriver = \"C:/Users/UserName/chromedriver_win32/chromedriver.exe\"\n",
    "driver = webdriver.Chrome(executable_path=chromedriver, chrome_options=chromeOptions)\n",
    "#import the webdriver and set the download folder"
   ]
  },
  {
   "cell_type": "code",
   "execution_count": null,
   "id": "f235a85a",
   "metadata": {},
   "outputs": [],
   "source": [
    "driver.get(\"http://www.empatica.com/connect/login.php\")\n",
    "#navigate to the URL"
   ]
  },
  {
   "cell_type": "code",
   "execution_count": null,
   "id": "59c93e60",
   "metadata": {},
   "outputs": [],
   "source": [
    "username = driver.find_element_by_xpath('//*[@id=\"username\"]')\n",
    "username.send_keys('mail')\n",
    "password = driver.find_element_by_xpath('//*[@id=\"password\"]')\n",
    "password.send_keys('password')\n",
    "login = driver.find_element_by_xpath('//*[@id=\"login-button\"]')\n",
    "login.click()\n",
    "#login the  site"
   ]
  },
  {
   "cell_type": "code",
   "execution_count": null,
   "id": "00b3bd67",
   "metadata": {
    "scrolled": true
   },
   "outputs": [],
   "source": [
    "sessions = driver.find_element_by_xpath('/html/body/div[1]/div/div/ul[1]/li[2]/a')\n",
    "sessions.click()\n",
    "time.sleep(4)\n",
    "\n",
    "while (((driver.find_element_by_xpath('//*[@id=\"calendar\"]/div/div/div/span[1]').text) != 'April') and ((driver.find_element_by_xpath('//*[@id=\"calendar\"]/div/div/div/span[2]').text) == '2022')):\n",
    "    arrow = driver.find_element_by_xpath('//*[@id=\"calendar\"]/div/div/a[1]/i')\n",
    "    arrow.click()\n",
    "    time.sleep(2)\n",
    "\n",
    "#navigate to the right month (when the experiment has strted - April 2022)\n"
   ]
  },
  {
   "cell_type": "code",
   "execution_count": null,
   "id": "d95c5a3a",
   "metadata": {},
   "outputs": [],
   "source": [
    "buttons =[]\n",
    "buttons = driver.find_elements_by_css_selector(\"td[data-handler='selectDay']\")\n",
    "for i in range(0,len(buttons)):\n",
    "    buttons = driver.find_elements_by_css_selector(\"td[data-handler='selectDay']\")\n",
    "    buttons[i].click()\n",
    "    time.sleep(3)\n",
    "    download = []\n",
    "    download = driver.find_elements_by_css_selector(\"a[id = 'fileDownloadCustomRichExperience']\")\n",
    "    for j in range(0,len(download)):\n",
    "        download = driver.find_elements_by_css_selector(\"a[id = 'fileDownloadCustomRichExperience']\")\n",
    "        download[j].click()\n",
    "        time.sleep(3)\n",
    "        sessions = driver.find_element_by_xpath('/html/body/div[1]/div/div/ul[1]/li[2]/a')\n",
    "        sessions.click()\n",
    "        time.sleep(3)\n",
    "        while (((driver.find_element_by_xpath('//*[@id=\"calendar\"]/div/div/div/span[1]').text) != 'April') and ((driver.find_element_by_xpath('//*[@id=\"calendar\"]/div/div/div/span[2]').text) == '2022')):\n",
    "            arrow = driver.find_element_by_xpath('//*[@id=\"calendar\"]/div/div/a[1]/i')\n",
    "            arrow.click()\n",
    "            time.sleep(2)\n",
    "        buttons = driver.find_elements_by_css_selector(\"td[data-handler='selectDay']\")\n",
    "        buttons[i].click()\n",
    "        time.sleep(3)\n",
    "#download the files in April"
   ]
  },
  {
   "cell_type": "code",
   "execution_count": null,
   "id": "734ce268",
   "metadata": {},
   "outputs": [],
   "source": [
    "sessions = driver.find_element_by_xpath('/html/body/div[1]/div/div/ul[1]/li[2]/a')\n",
    "sessions.click()\n",
    "time.sleep(4)\n",
    "while (((driver.find_element_by_xpath('//*[@id=\"calendar\"]/div/div/div/span[1]').text) != 'May') and ((driver.find_element_by_xpath('//*[@id=\"calendar\"]/div/div/div/span[2]').text) == '2022')):\n",
    "    arrow = driver.find_element_by_xpath('//*[@id=\"calendar\"]/div/div/a[1]/i')\n",
    "    arrow.click()\n",
    "    time.sleep(2)\n",
    "#download the files in May"
   ]
  },
  {
   "cell_type": "code",
   "execution_count": null,
   "id": "fdd5cf67",
   "metadata": {},
   "outputs": [],
   "source": [
    "buttons =[]\n",
    "buttons = driver.find_elements_by_css_selector(\"td[data-handler='selectDay']\")\n",
    "for i in range(0,len(buttons)):\n",
    "    buttons = driver.find_elements_by_css_selector(\"td[data-handler='selectDay']\")\n",
    "    buttons[i].click()\n",
    "    time.sleep(3)\n",
    "    download = []\n",
    "    download = driver.find_elements_by_css_selector(\"a[id = 'fileDownloadCustomRichExperience']\")\n",
    "    for j in range(0,len(download)):\n",
    "        download = driver.find_elements_by_css_selector(\"a[id = 'fileDownloadCustomRichExperience']\")\n",
    "        download[j].click()\n",
    "        time.sleep(3)\n",
    "        sessions = driver.find_element_by_xpath('/html/body/div[1]/div/div/ul[1]/li[2]/a')\n",
    "        sessions.click()\n",
    "        time.sleep(3)\n",
    "        while (((driver.find_element_by_xpath('//*[@id=\"calendar\"]/div/div/div/span[1]').text) != 'May') and ((driver.find_element_by_xpath('//*[@id=\"calendar\"]/div/div/div/span[2]').text) == '2022')):\n",
    "            arrow = driver.find_element_by_xpath('//*[@id=\"calendar\"]/div/div/a[1]/i')\n",
    "            arrow.click()\n",
    "            time.sleep(2)\n",
    "        buttons = driver.find_elements_by_css_selector(\"td[data-handler='selectDay']\")\n",
    "        buttons[i].click()\n",
    "        time.sleep(3)\n",
    "#download the files in May"
   ]
  },
  {
   "cell_type": "code",
   "execution_count": null,
   "id": "a4c55c7c",
   "metadata": {},
   "outputs": [],
   "source": [
    "sessions = driver.find_element_by_xpath('/html/body/div[1]/div/div/ul[1]/li[2]/a')\n",
    "sessions.click()\n",
    "time.sleep(4)\n",
    "while (((driver.find_element_by_xpath('//*[@id=\"calendar\"]/div/div/div/span[1]').text) != 'June') and ((driver.find_element_by_xpath('//*[@id=\"calendar\"]/div/div/div/span[2]').text) == '2022')):\n",
    "    arrow = driver.find_element_by_xpath('//*[@id=\"calendar\"]/div/div/a[1]/i')\n",
    "    arrow.click()\n",
    "    time.sleep(2)\n",
    "#download the files in June"
   ]
  },
  {
   "cell_type": "code",
   "execution_count": null,
   "id": "e3ccfa31",
   "metadata": {},
   "outputs": [],
   "source": [
    "buttons =[]\n",
    "buttons = driver.find_elements_by_css_selector(\"td[data-handler='selectDay']\")\n",
    "for i in range(0,len(buttons)):\n",
    "    buttons = driver.find_elements_by_css_selector(\"td[data-handler='selectDay']\")\n",
    "    buttons[i].click()\n",
    "    time.sleep(3)\n",
    "    download = []\n",
    "    download = driver.find_elements_by_css_selector(\"a[id = 'fileDownloadCustomRichExperience']\")\n",
    "    for j in range(0,len(download)):\n",
    "        download = driver.find_elements_by_css_selector(\"a[id = 'fileDownloadCustomRichExperience']\")\n",
    "        download[j].click()\n",
    "        time.sleep(3)\n",
    "        sessions = driver.find_element_by_xpath('/html/body/div[1]/div/div/ul[1]/li[2]/a')\n",
    "        sessions.click()\n",
    "        time.sleep(3)\n",
    "        while (((driver.find_element_by_xpath('//*[@id=\"calendar\"]/div/div/div/span[1]').text) != 'June') and ((driver.find_element_by_xpath('//*[@id=\"calendar\"]/div/div/div/span[2]').text) == '2022')):\n",
    "            arrow = driver.find_element_by_xpath('//*[@id=\"calendar\"]/div/div/a[1]/i')\n",
    "            arrow.click()\n",
    "            time.sleep(2)\n",
    "        buttons = driver.find_elements_by_css_selector(\"td[data-handler='selectDay']\")\n",
    "        buttons[i].click()\n",
    "        time.sleep(3)\n",
    "#download the files in June"
   ]
  },
  {
   "cell_type": "code",
   "execution_count": null,
   "id": "27431965",
   "metadata": {},
   "outputs": [],
   "source": [
    "sessions = driver.find_element_by_xpath('/html/body/div[1]/div/div/ul[1]/li[2]/a')\n",
    "sessions.click()\n",
    "time.sleep(4)\n",
    "while (((driver.find_element_by_xpath('//*[@id=\"calendar\"]/div/div/div/span[1]').text) != 'July') and ((driver.find_element_by_xpath('//*[@id=\"calendar\"]/div/div/div/span[2]').text) == '2022')):\n",
    "    arrow = driver.find_element_by_xpath('//*[@id=\"calendar\"]/div/div/a[1]/i')\n",
    "    arrow.click()\n",
    "    time.sleep(2)\n",
    "#download the files in July"
   ]
  },
  {
   "cell_type": "code",
   "execution_count": null,
   "id": "0dc133c9",
   "metadata": {},
   "outputs": [],
   "source": [
    "buttons =[]\n",
    "buttons = driver.find_elements_by_css_selector(\"td[data-handler='selectDay']\")\n",
    "for i in range(0,len(buttons)):\n",
    "    buttons = driver.find_elements_by_css_selector(\"td[data-handler='selectDay']\")\n",
    "    buttons[i].click()\n",
    "    time.sleep(3)\n",
    "    download = []\n",
    "    download = driver.find_elements_by_css_selector(\"a[id = 'fileDownloadCustomRichExperience']\")\n",
    "    for j in range(0,len(download)):\n",
    "        download = driver.find_elements_by_css_selector(\"a[id = 'fileDownloadCustomRichExperience']\")\n",
    "        download[j].click()\n",
    "        time.sleep(3)\n",
    "        sessions = driver.find_element_by_xpath('/html/body/div[1]/div/div/ul[1]/li[2]/a')\n",
    "        sessions.click()\n",
    "        time.sleep(3)\n",
    "        while (((driver.find_element_by_xpath('//*[@id=\"calendar\"]/div/div/div/span[1]').text) != 'July') and ((driver.find_element_by_xpath('//*[@id=\"calendar\"]/div/div/div/span[2]').text) == '2022')):\n",
    "            arrow = driver.find_element_by_xpath('//*[@id=\"calendar\"]/div/div/a[1]/i')\n",
    "            arrow.click()\n",
    "            time.sleep(2)\n",
    "        buttons = driver.find_elements_by_css_selector(\"td[data-handler='selectDay']\")\n",
    "        buttons[i].click()\n",
    "        time.sleep(3)\n",
    "#download the files in July"
   ]
  },
  {
   "cell_type": "code",
   "execution_count": null,
   "id": "7dfbf7cf",
   "metadata": {},
   "outputs": [],
   "source": [
    "sessions = driver.find_element_by_xpath('/html/body/div[1]/div/div/ul[1]/li[2]/a')\n",
    "sessions.click()\n",
    "time.sleep(4)\n",
    "while (((driver.find_element_by_xpath('//*[@id=\"calendar\"]/div/div/div/span[1]').text) != 'August') and ((driver.find_element_by_xpath('//*[@id=\"calendar\"]/div/div/div/span[2]').text) == '2022')):\n",
    "    arrow = driver.find_element_by_xpath('//*[@id=\"calendar\"]/div/div/a[1]/i')\n",
    "    arrow.click()\n",
    "    time.sleep(2)\n",
    "#download the files in August"
   ]
  },
  {
   "cell_type": "code",
   "execution_count": null,
   "id": "0f51a8a9",
   "metadata": {},
   "outputs": [],
   "source": [
    "buttons =[]\n",
    "buttons = driver.find_elements_by_css_selector(\"td[data-handler='selectDay']\")\n",
    "for i in range(0,len(buttons)):\n",
    "    buttons = driver.find_elements_by_css_selector(\"td[data-handler='selectDay']\")\n",
    "    buttons[i].click()\n",
    "    time.sleep(3)\n",
    "    download = []\n",
    "    download = driver.find_elements_by_css_selector(\"a[id = 'fileDownloadCustomRichExperience']\")\n",
    "    for j in range(0,len(download)):\n",
    "        download = driver.find_elements_by_css_selector(\"a[id = 'fileDownloadCustomRichExperience']\")\n",
    "        download[j].click()\n",
    "        time.sleep(3)\n",
    "        sessions = driver.find_element_by_xpath('/html/body/div[1]/div/div/ul[1]/li[2]/a')\n",
    "        sessions.click()\n",
    "        time.sleep(3)\n",
    "        while (((driver.find_element_by_xpath('//*[@id=\"calendar\"]/div/div/div/span[1]').text) != 'August') and ((driver.find_element_by_xpath('//*[@id=\"calendar\"]/div/div/div/span[2]').text) == '2022')):\n",
    "            arrow = driver.find_element_by_xpath('//*[@id=\"calendar\"]/div/div/a[1]/i')\n",
    "            arrow.click()\n",
    "            time.sleep(2)\n",
    "        buttons = driver.find_elements_by_css_selector(\"td[data-handler='selectDay']\")\n",
    "        buttons[i].click()\n",
    "        time.sleep(3)\n",
    "#download the files in August"
   ]
  }
 ],
 "metadata": {
  "kernelspec": {
   "display_name": "Python 3",
   "language": "python",
   "name": "python3"
  },
  "language_info": {
   "codemirror_mode": {
    "name": "ipython",
    "version": 3
   },
   "file_extension": ".py",
   "mimetype": "text/x-python",
   "name": "python",
   "nbconvert_exporter": "python",
   "pygments_lexer": "ipython3",
   "version": "3.8.5"
  }
 },
 "nbformat": 4,
 "nbformat_minor": 5
}
